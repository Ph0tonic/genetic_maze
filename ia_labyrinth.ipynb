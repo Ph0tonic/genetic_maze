{
 "cells": [
  {
   "cell_type": "markdown",
   "metadata": {},
   "source": [
    "# IA - Labyrinthe\n",
    "## Auteur:\n",
    "- Bastien Wermeille"
   ]
  },
  {
   "cell_type": "code",
   "execution_count": 1,
   "metadata": {},
   "outputs": [],
   "source": [
    "import numpy as np\n",
    "import random\n",
    "import matplotlib.pyplot as plt\n",
    "import time\n",
    "import random\n",
    "from enum import Enum\n",
    "\n",
    "from datetime import datetime\n",
    "random.seed(datetime.now())"
   ]
  },
  {
   "cell_type": "code",
   "execution_count": 2,
   "metadata": {},
   "outputs": [],
   "source": [
    "WALL_RATIO = 0.3\n",
    "MAX_TIME_S = 5"
   ]
  },
  {
   "cell_type": "code",
   "execution_count": 3,
   "metadata": {},
   "outputs": [],
   "source": [
    "def generate_labyrinth(width, height, wall_ratio=0.3):\n",
    "    grid = np.random.rand(width, height)\n",
    "    grid[grid >= 1 - wall_ratio] = 1\n",
    "    grid[grid < 1 - wall_ratio] = 0\n",
    "    free_cell_top = [i for i in range(0, width) if grid[0][i] != 1]\n",
    "    start_idx = random.choice(free_cell_top)\n",
    "    start_cell = (0, start_idx)\n",
    "    free_cell_bottom = [i for i in range(0, width) if grid[-1][i] != 1]\n",
    "    end_idx = random.choice(free_cell_bottom)\n",
    "    end_cell = (height - 1, end_idx)\n",
    "    return grid, start_cell, end_cell"
   ]
  },
  {
   "cell_type": "code",
   "execution_count": 4,
   "metadata": {},
   "outputs": [],
   "source": [
    "def display_labyrinth(grid, start_cell, end_cell, solution=None):\n",
    "    grid = np.array(grid, copy=True)\n",
    "    FREE_CELL = 19\n",
    "    WALL_CELL = 16\n",
    "    START = 0\n",
    "    END = 0\n",
    "    PATH = 2\n",
    "    grid[grid == 0] = FREE_CELL\n",
    "    grid[grid == 1] = WALL_CELL\n",
    "    grid[start_cell] = START\n",
    "    grid[end_cell] = END\n",
    "    if solution:\n",
    "        solution = solution[1:]\n",
    "        for cell in solution:\n",
    "            grid[cell] = PATH\n",
    "    else:\n",
    "        print(\"No solution has been found\")\n",
    "    plt.matshow(grid, cmap=\"tab20c\")"
   ]
  },
  {
   "cell_type": "code",
   "execution_count": 5,
   "metadata": {},
   "outputs": [],
   "source": [
    "def load_grid(grid_file):\n",
    "    grid = np.load(grid_file)\n",
    "    h = grid.shape[0]\n",
    "    w = grid.shape[1]\n",
    "    return (grid, (h, w))"
   ]
  },
  {
   "cell_type": "code",
   "execution_count": 555,
   "metadata": {},
   "outputs": [],
   "source": [
    "# grid, START_CELL, END_CELL = generate_labyrinth(WIDTH, HEIGHT, WALL_RATIO)\n",
    "grid, size = load_grid(\"grids/grid40.npy\")\n",
    "WIDTH = size[0]\n",
    "HEIGHT = size[1]\n",
    "START_CELL = (0,0)\n",
    "END_CELL = (size[0]-1,size[1]-1)\n",
    "if WIDTH == 10:\n",
    "    CHROMOSOME_LENGTH = 25\n",
    "elif WIDTH == 15:\n",
    "    CHROMOSOME_LENGTH = 32\n",
    "elif WIDTH == 20:\n",
    "    CHROMOSOME_LENGTH = 45\n",
    "elif WIDTH == 40:CHROMOSOME_LENGTH = 150\n",
    "    \n",
    "else:\n",
    "    CHROMOSOME_LENGTH = int((WIDTH+HEIGHT)+(1-WALL_RATIO)*WIDTH+(1-WALL_RATIO)*HEIGHT)"
   ]
  },
  {
   "cell_type": "code",
   "execution_count": 556,
   "metadata": {
    "slideshow": {
     "slide_type": "slide"
    }
   },
   "outputs": [
    {
     "name": "stdout",
     "output_type": "stream",
     "text": [
      "No solution has been found\n",
      "Width :  40  Height :  40\n",
      "Chromosone Length :  150\n"
     ]
    },
    {
     "data": {
      "image/png": "[encoded data removed]",
      "text/plain": [
       "<Figure size 288x288 with 1 Axes>"
      ]
     },
     "metadata": {
      "needs_background": "light"
     },
     "output_type": "display_data"
    }
   ],
   "source": [
    "display_labyrinth(grid, START_CELL, END_CELL)\n",
    "print(\"Width : \", WIDTH, \" Height : \", HEIGHT)\n",
    "print(\"Chromosone Length : \", CHROMOSOME_LENGTH)"
   ]
  },
  {
   "cell_type": "markdown",
   "metadata": {},
   "source": [
    "# Data Structure"
   ]
  },
  {
   "cell_type": "code",
   "execution_count": 557,
   "metadata": {},
   "outputs": [],
   "source": [
    "DIRECTIONS = {\n",
    "    0: (-1, 0), # TOP\n",
    "    1: (0, 1),  # RIGHT\n",
    "    2: (1, 0),  # BOTTOM\n",
    "    3: (0, -1), # LEFT\n",
    "}\n",
    "DIRECTIONS_LENGTH = len(DIRECTIONS)"
   ]
  },
  {
   "cell_type": "markdown",
   "metadata": {},
   "source": [
    "## Generic tools"
   ]
  },
  {
   "cell_type": "code",
   "execution_count": 558,
   "metadata": {},
   "outputs": [],
   "source": [
    "def check_duplication_point(location, direction, previous_locations):\n",
    "    location_new = tuple(np.add(location, DIRECTIONS[direction]))\n",
    "    return grid[location_new] != 1.0 and location_new not in previous_locations"
   ]
  },
  {
   "cell_type": "code",
   "execution_count": 559,
   "metadata": {},
   "outputs": [],
   "source": [
    "def available_direction(location, previous_locations, start_location, targeted_location):\n",
    "    directions = []\n",
    "    \n",
    "    if location[0] > 0:\n",
    "        if check_duplication_point(location, 0, previous_locations):\n",
    "            directions.append(0)\n",
    "    if location[0] < HEIGHT-1:\n",
    "        if check_duplication_point(location, 2, previous_locations):\n",
    "            directions.append(2)\n",
    "            directions.append(2)\n",
    "            directions.append(2)\n",
    "    if location[1] > 0:\n",
    "        if check_duplication_point(location, 3, previous_locations):\n",
    "            directions.append(3)\n",
    "    if location[1] < WIDTH-1:\n",
    "        if check_duplication_point(location, 1, previous_locations):\n",
    "            directions.append(1)\n",
    "            directions.append(1)\n",
    "            directions.append(1)\n",
    "    \n",
    "    return directions"
   ]
  },
  {
   "cell_type": "code",
   "execution_count": 560,
   "metadata": {},
   "outputs": [],
   "source": [
    "def available_direction_simple(location):\n",
    "    directions = []\n",
    "    \n",
    "    if location[0] > 0:\n",
    "        location_new = tuple(np.add(location, DIRECTIONS[0]))\n",
    "        if grid[location_new] != 1.0:\n",
    "            directions.append(0)\n",
    "    if location[0] < HEIGHT-1:\n",
    "        location_new = tuple(np.add(location, DIRECTIONS[2]))\n",
    "        if grid[location_new] != 1.0:\n",
    "            directions.append(2)\n",
    "    if location[1] > 0:\n",
    "        location_new = tuple(np.add(location, DIRECTIONS[3]))\n",
    "        if grid[location_new] != 1.0:\n",
    "            directions.append(3)\n",
    "    if location[1] < WIDTH-1:\n",
    "        location_new = tuple(np.add(location, DIRECTIONS[1]))\n",
    "        if grid[location_new] != 1.0:\n",
    "            directions.append(1)\n",
    "    \n",
    "    return directions"
   ]
  },
  {
   "cell_type": "code",
   "execution_count": 561,
   "metadata": {},
   "outputs": [],
   "source": [
    "def validate_individual(individual, start_location, targeted_location):\n",
    "    previous_locations = set([start_location])\n",
    "    location = start_location\n",
    "    direction = None\n",
    "    end = False\n",
    "    \n",
    "    for index, direction in enumerate(individual):\n",
    "        if end:\n",
    "            continue\n",
    "        \n",
    "        # Validate every direction in an individual\n",
    "        directions = available_direction(location, previous_locations, start_location, targeted_location)\n",
    "        if len(directions) == 0:\n",
    "            direction = random.choice(available_direction_simple(location))\n",
    "        elif direction not in directions:\n",
    "            # Find another valid direction\n",
    "            direction = random.choice(directions)\n",
    "        \n",
    "        # Compute new location\n",
    "        location = tuple(np.add(location, DIRECTIONS[direction]))\n",
    "        \n",
    "        individual[index] = direction\n",
    "        previous_locations.add(location)\n",
    "        \n",
    "        if location == targeted_location:\n",
    "            end = True\n",
    "    \n",
    "    return individual#, previous_locations"
   ]
  },
  {
   "cell_type": "code",
   "execution_count": 562,
   "metadata": {},
   "outputs": [],
   "source": [
    "def compute_direction_to_path(individual, start_location):\n",
    "    locations = [start_location]\n",
    "    location = start_location\n",
    "    for direction in individual:\n",
    "        location = tuple(np.add(location, DIRECTIONS[direction]))\n",
    "        locations.append(location)\n",
    "    return locations"
   ]
  },
  {
   "cell_type": "code",
   "execution_count": 659,
   "metadata": {},
   "outputs": [],
   "source": [
    "def optimise_path(individual, locations, targeted_location):\n",
    "    previous_location = locations[0]\n",
    "    location_visited = {}\n",
    "    locations_known = {}\n",
    "    \n",
    "    i = 0\n",
    "    # remove detour passing by same location\n",
    "    while i < len(individual):\n",
    "        if locations[i] in locations[i+1:]:\n",
    "            index = locations[i+1:].index(locations[i])+i+1\n",
    "            individual[:] = individual[:i]+individual[index:]\n",
    "            locations[:] = locations[:i]+locations[index:]\n",
    "        i += 1\n",
    "    \n",
    "    i=0\n",
    "    while i < len(individual)-2:\n",
    "        if individual[i] == (individual[i+2]+2)%4 and individual[i+1]%2 != individual[i]%2:\n",
    "            individual[i] = individual[i+1]\n",
    "            individual[:] = individual[:i+1]+individual[i+3:]\n",
    "        i += 1\n",
    "    \n",
    "    return individual"
   ]
  },
  {
   "cell_type": "code",
   "execution_count": 661,
   "metadata": {},
   "outputs": [],
   "source": [
    "def evaluate(individual, start_location, targeted_location):\n",
    "    individual = validate_individual(individual, start_location, targeted_location)\n",
    "    \n",
    "    locations = compute_direction_to_path(individual, start_location)\n",
    "    \n",
    "    if targeted_location in locations:\n",
    "        individual[:] = individual[:locations.index(targeted_location)]\n",
    "        locations[:] = locations[:locations.index(targeted_location)+1]\n",
    "        \n",
    "        individual[:] = optimise_path(individual, locations, targeted_location)\n",
    "        \n",
    "        # Score equals to the length of the path\n",
    "        score = locations.index(targeted_location)\n",
    "    else:\n",
    "        # Score equals to length of the individual + the remaining distance\n",
    "        distance = tuple(np.subtract(locations[-1], targeted_location))\n",
    "        manhattan_distance = abs(distance[0])+abs(distance[1])\n",
    "        score = len(individual) + manhattan_distance\n",
    "        score *= score\n",
    "    return score,"
   ]
  },
  {
   "cell_type": "code",
   "execution_count": 662,
   "metadata": {},
   "outputs": [],
   "source": [
    "def resize_individual(length):\n",
    "    def resize(individual):\n",
    "        individual[:] = individual[:length]\n",
    "        return individual\n",
    "    return resize"
   ]
  },
  {
   "cell_type": "markdown",
   "metadata": {},
   "source": [
    "## Deap Framework"
   ]
  },
  {
   "cell_type": "code",
   "execution_count": 663,
   "metadata": {},
   "outputs": [],
   "source": [
    "from deap import base\n",
    "from deap import creator\n",
    "from deap import tools\n",
    "from deap import algorithms\n",
    "import operator\n",
    "from enum import Enum\n",
    "from collections import namedtuple\n",
    "import random\n",
    "import time"
   ]
  },
  {
   "cell_type": "code",
   "execution_count": 664,
   "metadata": {},
   "outputs": [],
   "source": [
    "toolbox = base.Toolbox()\n",
    "\n",
    "creator.create(\"FitnessMin\", base.Fitness, weights=(-1.0,))\n",
    "creator.create(\"Individual\", list, fitness=creator.FitnessMin)"
   ]
  },
  {
   "cell_type": "code",
   "execution_count": 665,
   "metadata": {},
   "outputs": [],
   "source": [
    "#toolbox.register(\"individual\", init_individual, CHROMOSOME_LENGTH_START)\n",
    "toolbox.register(\"direction\", random.randint, 0, DIRECTIONS_LENGTH-1)\n",
    "toolbox.register(\"individual\", tools.initRepeat, creator.Individual, toolbox.direction, CHROMOSOME_LENGTH)\n",
    "toolbox.register(\"population\", tools.initRepeat, list, toolbox.individual)\n",
    "\n",
    "#toolbox.register(\"mate\", tools.cxOnePoint)\n",
    "toolbox.register(\"validate\", validate_individual, start_location=START_CELL, targeted_location=END_CELL)\n",
    "toolbox.register(\"resize\", resize_individual)\n",
    "toolbox.register(\"mate\", tools.cxOnePoint)\n",
    "toolbox.register(\"mutate\", tools.mutShuffleIndexes, indpb=0.5)\n",
    "toolbox.register(\"select\", tools.selRoulette)\n",
    "toolbox.register(\"evaluate\", evaluate, start_location=START_CELL, targeted_location=END_CELL)"
   ]
  },
  {
   "cell_type": "code",
   "execution_count": 666,
   "metadata": {},
   "outputs": [],
   "source": [
    "def solve_labyrinth(grid, start_cell, end_cell, max_time_s):\n",
    "    population = toolbox.population(150)\n",
    "    cxpb = 0.7\n",
    "    mutpb = 0.5\n",
    "    halloffame = tools.HallOfFame(1)\n",
    "\n",
    "    start_time = inter_time = time.time()\n",
    "    \n",
    "    # Evaluate the individuals with an invalid fitness\n",
    "    invalid_ind = [ind for ind in population if not ind.fitness.valid]\n",
    "    fitnesses = toolbox.map(toolbox.evaluate, invalid_ind)\n",
    "    for ind, fit in zip(invalid_ind, fitnesses):\n",
    "        ind.fitness.values = fit\n",
    "\n",
    "    if halloffame is not None:\n",
    "        halloffame.update(population)\n",
    "    \n",
    "    nb_gen = 0\n",
    "    \n",
    "    # Begin the generational process\n",
    "    while inter_time - start_time < max_time_s:\n",
    "        nb_gen += 1\n",
    "        \n",
    "        # Select the next generation individuals\n",
    "        offspring = toolbox.select(population, len(population))\n",
    "\n",
    "        # Vary the pool of individuals\n",
    "        offspring = algorithms.varAnd(offspring, toolbox, cxpb, mutpb)\n",
    "\n",
    "        # Evaluate the individuals with an invalid fitness\n",
    "        invalid_ind = [ind for ind in offspring if not ind.fitness.valid]\n",
    "        fitnesses = toolbox.map(toolbox.evaluate, invalid_ind)\n",
    "        for ind, fit in zip(invalid_ind, fitnesses):\n",
    "            ind.fitness.values = fit\n",
    "\n",
    "        # Update the hall of fame with the generated individuals\n",
    "        if halloffame is not None:\n",
    "            halloffame.update(offspring)\n",
    "\n",
    "        # Replace the current population by the offspring\n",
    "        population[:] = offspring\n",
    "\n",
    "        \n",
    "        inter_time = time.time()\n",
    "        \n",
    "    res = population\n",
    "\n",
    "    solution = compute_direction_to_path(halloffame[0], START_CELL)\n",
    "    #print(\"solution : \", halloffame[0])\n",
    "    print(\"score : \", halloffame[0].fitness)\n",
    "    if END_CELL in solution:\n",
    "        solution = solution[:solution.index(END_CELL)]\n",
    "    \n",
    "    print(\"Length : \", len(solution))\n",
    "    print(\"nb gen :\", nb_gen)\n",
    "    display_labyrinth(grid, START_CELL, END_CELL, solution)"
   ]
  },
  {
   "cell_type": "code",
   "execution_count": 667,
   "metadata": {},
   "outputs": [
    {
     "name": "stdout",
     "output_type": "stream",
     "text": [
      "score :  (100.0,)\n",
      "Length :  94\n",
      "nb gen : 84\n"
     ]
    },
    {
     "data": {
      "image/png": "[encoded data removed]",
      "text/plain": [
       "<Figure size 288x288 with 1 Axes>"
      ]
     },
     "metadata": {
      "needs_background": "light"
     },
     "output_type": "display_data"
    }
   ],
   "source": [
    "solve_labyrinth(grid, START_CELL, END_CELL, 60)"
   ]
  },
  {
   "cell_type": "code",
   "execution_count": 668,
   "metadata": {},
   "outputs": [],
   "source": [
    "population = toolbox.population(150)\n",
    "elites = tools.HallOfFame(1)"
   ]
  },
  {
   "cell_type": "code",
   "execution_count": null,
   "metadata": {},
   "outputs": [],
   "source": [
    "res = algorithms.eaSimple(population, toolbox, 0.1, 0.1, 84, halloffame=elites, verbose=False)\n",
    "solution = compute_direction_to_path(elites[0], START_CELL)\n",
    "print(\"solution : \", elites[0])\n",
    "print(\"score : \", elites[0].fitness)\n",
    "if END_CELL in solution:\n",
    "    solution = solution[:solution.index(END_CELL)]\n",
    "\n",
    "print(\"Nb gen : \", len(inividual))\n",
    "display_labyrinth(grid, START_CELL, END_CELL, solution)"
   ]
  },
  {
   "cell_type": "code",
   "execution_count": null,
   "metadata": {},
   "outputs": [],
   "source": []
  },
  {
   "cell_type": "code",
   "execution_count": null,
   "metadata": {},
   "outputs": [],
   "source": []
  },
  {
   "cell_type": "code",
   "execution_count": null,
   "metadata": {},
   "outputs": [],
   "source": []
  }
 ],
 "metadata": {
  "kernelspec": {
   "display_name": "Python 3",
   "language": "python",
   "name": "python3"
  },
  "language_info": {
   "codemirror_mode": {
    "name": "ipython",
    "version": 3
   },
   "file_extension": ".py",
   "mimetype": "text/x-python",
   "name": "python",
   "nbconvert_exporter": "python",
   "pygments_lexer": "ipython3",
   "version": "3.5.2"
  }
 },
 "nbformat": 4,
 "nbformat_minor": 2
}
