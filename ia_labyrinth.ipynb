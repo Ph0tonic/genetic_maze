{
 "cells": [
  {
   "cell_type": "code",
   "execution_count": 1,
   "metadata": {},
   "outputs": [],
   "source": [
    "import numpy as np\n",
    "import random\n",
    "import matplotlib.pyplot as plt\n",
    "import random\n",
    "import time\n",
    "from enum import Enum"
   ]
  },
  {
   "cell_type": "markdown",
   "metadata": {},
   "source": [
    "# IA - Labyrinth"
   ]
  },
  {
   "cell_type": "code",
   "execution_count": 2,
   "metadata": {},
   "outputs": [],
   "source": [
    "WALL_RATIO = 0.3\n",
    "MAX_TIME_S = 5"
   ]
  },
  {
   "cell_type": "code",
   "execution_count": 3,
   "metadata": {},
   "outputs": [],
   "source": [
    "def generate_labyrinth(width, height, wall_ratio=0.3):\n",
    "    grid = np.random.rand(width, height)\n",
    "    grid[grid >= 1 - wall_ratio] = 1\n",
    "    grid[grid < 1 - wall_ratio] = 0\n",
    "    free_cell_top = [i for i in range(0, width) if grid[0][i] != 1]\n",
    "    start_idx = random.choice(free_cell_top)\n",
    "    start_cell = (0, start_idx)\n",
    "    free_cell_bottom = [i for i in range(0, width) if grid[-1][i] != 1]\n",
    "    end_idx = random.choice(free_cell_bottom)\n",
    "    end_cell = (height - 1, end_idx)\n",
    "    return grid, start_cell, end_cell"
   ]
  },
  {
   "cell_type": "code",
   "execution_count": 4,
   "metadata": {},
   "outputs": [],
   "source": [
    "def display_labyrinth(grid, start_cell, end_cell, solution=None):\n",
    "    grid = np.array(grid, copy=True)\n",
    "    FREE_CELL = 19\n",
    "    WALL_CELL = 16\n",
    "    START = 0\n",
    "    END = 0\n",
    "    PATH = 2\n",
    "    grid[grid == 0] = FREE_CELL\n",
    "    grid[grid == 1] = WALL_CELL\n",
    "    grid[start_cell] = START\n",
    "    grid[end_cell] = END\n",
    "    if solution:\n",
    "        solution = solution[1:]\n",
    "        for cell in solution:\n",
    "            grid[cell] = PATH\n",
    "    else:\n",
    "        print(\"No solution has been found\")\n",
    "    plt.matshow(grid, cmap=\"tab20c\")"
   ]
  },
  {
   "cell_type": "code",
   "execution_count": 5,
   "metadata": {},
   "outputs": [],
   "source": [
    "def load_grid(grid_file):\n",
    "    grid = np.load(grid_file)\n",
    "    h = grid.shape[0]\n",
    "    w = grid.shape[1]\n",
    "    return (grid, (h, w))"
   ]
  },
  {
   "cell_type": "code",
   "execution_count": 6,
   "metadata": {},
   "outputs": [],
   "source": [
    "# grid, START_CELL, END_CELL = generate_labyrinth(WIDTH, HEIGHT, WALL_RATIO)\n",
    "grid, size = load_grid(\"grids/grid40.npy\")\n",
    "WIDTH = size[0]\n",
    "HEIGHT = size[1]\n",
    "START_CELL = (0,0)\n",
    "END_CELL = (size[0]-1,size[1]-1)"
   ]
  },
  {
   "cell_type": "code",
   "execution_count": 7,
   "metadata": {
    "slideshow": {
     "slide_type": "slide"
    }
   },
   "outputs": [
    {
     "name": "stdout",
     "output_type": "stream",
     "text": [
      "No solution has been found\n"
     ]
    },
    {
     "data": {
      "image/png": "[encoded data removed]",
      "text/plain": [
       "<Figure size 288x288 with 1 Axes>"
      ]
     },
     "metadata": {
      "needs_background": "light"
     },
     "output_type": "display_data"
    }
   ],
   "source": [
    "display_labyrinth(grid, START_CELL, END_CELL)"
   ]
  },
  {
   "cell_type": "markdown",
   "metadata": {},
   "source": [
    "# Data Structure"
   ]
  },
  {
   "cell_type": "code",
   "execution_count": 8,
   "metadata": {},
   "outputs": [],
   "source": [
    "# In this example, we fix the number of directions to 4\n",
    "class Direction(Enum):\n",
    "    TOP = 0#, \"t\", np.array([-1, 0]))\n",
    "    RIGHT = 1#, \"r\", np.array([0, 1]))\n",
    "    BOTTOM = 2#, \"b\", np.array([1, 0]))\n",
    "    LEFT = 3#, \"l\", np.array([0, -1]))\n",
    "    \n",
    "    def apply(self, location):\n",
    "        return location + self.move\n",
    "    \n",
    "    def to_str(self):\n",
    "        self.string\n",
    "    \n",
    "    def get_move(self):\n",
    "        return self._tbl[self]\n",
    "    \n",
    "    def opposite(self):\n",
    "        return Direction((self.value+2)%4)\n",
    "\n",
    "def random_direction():\n",
    "    return random.choice(list(Direction))\n",
    "\n",
    "Direction._tbl = {\n",
    "    Direction.TOP: (-1, 0),\n",
    "    Direction.RIGHT: (0, 1),\n",
    "    Direction.BOTTOM: (1, 0),\n",
    "    Direction.LEFT: (0, -1)\n",
    "}\n",
    "\n",
    "NB_DIRECTIONS = len(Direction)\n",
    "# CHROMOSOME_LENGTH_START = (size[0]+size[1])*2-1\n",
    "CHROMOSOME_LENGTH_START = int((WALL_RATIO*WIDTH*HEIGHT))"
   ]
  },
  {
   "cell_type": "markdown",
   "metadata": {},
   "source": [
    "## Generic tools"
   ]
  },
  {
   "cell_type": "code",
   "execution_count": 9,
   "metadata": {},
   "outputs": [],
   "source": [
    "def available_direction(location, previous_locations):\n",
    "    temp_directions = set()\n",
    "    directions = set()\n",
    "    \n",
    "    if location[0] > 0:\n",
    "        temp_directions.add(Direction.TOP)\n",
    "    if location[0] < HEIGHT-1:\n",
    "        temp_directions.add(Direction.BOTTOM)\n",
    "    if location[1] > 0:\n",
    "        temp_directions.add(Direction.LEFT)\n",
    "    if location[1] < WIDTH-1:\n",
    "        temp_directions.add(Direction.RIGHT)\n",
    "    \n",
    "    for direction in temp_directions:\n",
    "        location_new = tuple(np.add(location, direction.get_move()))\n",
    "        if grid[location_new] != 1.0 and location_new not in previous_locations:\n",
    "            directions.add(direction)\n",
    "    \n",
    "    return directions"
   ]
  },
  {
   "cell_type": "code",
   "execution_count": 34,
   "metadata": {},
   "outputs": [],
   "source": [
    "def validate_individual(individual, start_location, targeted_location):\n",
    "    previous_locations = [start_location]\n",
    "    location = start_location\n",
    "    direction = None\n",
    "    end = False\n",
    "    \n",
    "    for index, direction in enumerate(individual):\n",
    "        if end:\n",
    "            continue\n",
    "        \n",
    "        # Validate every direction in an individual\n",
    "        directions = available_direction(location, previous_locations)\n",
    "\n",
    "        if len(directions) == 0:\n",
    "            individual[index] = Direction(individual[index-1]).opposite()\n",
    "            continue\n",
    "        \n",
    "        if direction not in directions:\n",
    "            # Find another valid direction\n",
    "            direction = random.sample(directions,1)[0]\n",
    "        \n",
    "        # Compute new location\n",
    "        location = tuple(np.add(location, direction.get_move()))\n",
    "        \n",
    "        individual[index] = direction.value\n",
    "        previous_locations.append(location)\n",
    "        \n",
    "        if location == targeted_location:\n",
    "            end = True\n",
    "            continue\n",
    "    return individual#, previous_locations"
   ]
  },
  {
   "cell_type": "code",
   "execution_count": 35,
   "metadata": {},
   "outputs": [],
   "source": [
    "def compute_direction_to_path(individual, start_location):\n",
    "    locations = [start_location]\n",
    "    location = start_location\n",
    "    for direction in individual:\n",
    "        location = tuple(np.add(location, Direction(direction).get_move()))\n",
    "        locations.append(location)\n",
    "    return locations"
   ]
  },
  {
   "cell_type": "code",
   "execution_count": 36,
   "metadata": {},
   "outputs": [],
   "source": [
    "def evaluate(individual, start_location, targeted_location):\n",
    "    individual = validate_individual(individual, start_location, targeted_location)\n",
    "    \n",
    "    # Add coefficient for length of the path\n",
    "    score = len(individual)\n",
    "    \n",
    "    # Add double coefficient for Manhattan distance\n",
    "    # TODO Improve\n",
    "    locations = compute_direction_to_path(individual, start_location)\n",
    "    distance = tuple(np.subtract(locations[-1], targeted_location))\n",
    "    manhattan_distance = abs(distance[0])+abs(distance[1])\n",
    "    \n",
    "    score = score + 2*manhattan_distance\n",
    "    return score, score"
   ]
  },
  {
   "cell_type": "markdown",
   "metadata": {},
   "source": [
    "## Deap Framework"
   ]
  },
  {
   "cell_type": "code",
   "execution_count": 37,
   "metadata": {},
   "outputs": [],
   "source": [
    "from deap import base\n",
    "from deap import creator\n",
    "from deap import tools\n",
    "from deap import algorithms\n",
    "import operator\n",
    "from enum import Enum\n",
    "from collections import namedtuple\n",
    "import random\n",
    "import time"
   ]
  },
  {
   "cell_type": "code",
   "execution_count": 50,
   "metadata": {},
   "outputs": [],
   "source": [
    "toolbox = base.Toolbox()\n",
    "\n",
    "creator.create(\"FitnessMin\", base.Fitness, weights=(-1.0,))\n",
    "creator.create(\"Individual\", list, fitness=creator.FitnessMin)"
   ]
  },
  {
   "cell_type": "code",
   "execution_count": 60,
   "metadata": {},
   "outputs": [],
   "source": [
    "#toolbox.register(\"individual\", init_individual, CHROMOSOME_LENGTH_START)\n",
    "toolbox.register(\"direction\", random.randint, 0, len(Direction)-1)\n",
    "toolbox.register(\"individual\", tools.initRepeat, creator.Individual, toolbox.direction, CHROMOSOME_LENGTH_START)\n",
    "toolbox.register(\"population\", tools.initRepeat, list, toolbox.individual)\n",
    "\n",
    "#toolbox.register(\"mate\", tools.cxOnePoint)\n",
    "toolbox.register(\"validate\", validate_individual, start_location=START_CELL, targeted_location=END_CELL)\n",
    "toolbox.register(\"mate\", tools.cxOnePoint)\n",
    "toolbox.register(\"mutate\", tools.mutShuffleIndexes, indpb=0.05)\n",
    "toolbox.register(\"select\", tools.selRoulette)\n",
    "toolbox.register(\"evaluate\", evaluate, start_location=START_CELL, targeted_location=END_CELL)"
   ]
  },
  {
   "cell_type": "code",
   "execution_count": 61,
   "metadata": {},
   "outputs": [],
   "source": [
    "population = toolbox.population(300)\n",
    "elites = tools.HallOfFame(1)"
   ]
  },
  {
   "cell_type": "code",
   "execution_count": 63,
   "metadata": {},
   "outputs": [],
   "source": [
    "res = algorithms.eaSimple(population, toolbox, 0.7, 0.1, 1, halloffame=elites, verbose=False)"
   ]
  },
  {
   "cell_type": "markdown",
   "metadata": {},
   "source": [
    "### Fitnesse"
   ]
  },
  {
   "cell_type": "markdown",
   "metadata": {},
   "source": [
    "A prendre en compte: \n",
    "    -Validité chemin\n",
    "    - Intégrité\n",
    "    - Qualité\n",
    "    - Des approche\n",
    "    - Temps"
   ]
  },
  {
   "cell_type": "code",
   "execution_count": 64,
   "metadata": {},
   "outputs": [
    {
     "data": {
      "text/plain": [
       "deap.creator.FitnessMin((564.0,))"
      ]
     },
     "execution_count": 64,
     "metadata": {},
     "output_type": "execute_result"
    }
   ],
   "source": [
    "elites[0].fitness"
   ]
  },
  {
   "cell_type": "code",
   "execution_count": 65,
   "metadata": {},
   "outputs": [
    {
     "name": "stdout",
     "output_type": "stream",
     "text": [
      "No solution has been found\n"
     ]
    },
    {
     "data": {
      "image/png": "[encoded data removed]",
      "text/plain": [
       "<Figure size 288x288 with 1 Axes>"
      ]
     },
     "metadata": {
      "needs_background": "light"
     },
     "output_type": "display_data"
    }
   ],
   "source": [
    "display_labyrinth(grid, START_CELL, END_CELL)"
   ]
  },
  {
   "cell_type": "code",
   "execution_count": 66,
   "metadata": {},
   "outputs": [
    {
     "data": {
      "image/png": "[encoded data removed]",
      "text/plain": [
       "<Figure size 288x288 with 1 Axes>"
      ]
     },
     "metadata": {
      "needs_background": "light"
     },
     "output_type": "display_data"
    }
   ],
   "source": [
    "solution = compute_direction_to_path(elites[0], START_CELL)\n",
    "if END_CELL in solution:\n",
    "    solution = solution[:solution.index(END_CELL)]\n",
    "\n",
    "display_labyrinth(grid, START_CELL, END_CELL, solution)"
   ]
  },
  {
   "cell_type": "code",
   "execution_count": 70,
   "metadata": {},
   "outputs": [
    {
     "data": {
      "image/png": "[encoded data removed]",
      "text/plain": [
       "<Figure size 288x288 with 1 Axes>"
      ]
     },
     "metadata": {
      "needs_background": "light"
     },
     "output_type": "display_data"
    }
   ],
   "source": [
    "def solve_labyrinth(grid, start_cell, end_cell, max_time_s):\n",
    "    population = toolbox.population(500)\n",
    "    cxpb = 0.7\n",
    "    mutpb = 0.1\n",
    "    halloffame=elites\n",
    "\n",
    "    start_time = inter_time = time.time()\n",
    "    max_time_s = 5\n",
    "    \n",
    "    toolbox.map(toolbox.validate, population)\n",
    "    for pop in population:\n",
    "        #print(pop)\n",
    "        pass\n",
    "    \n",
    "    # Evaluate the individuals with an invalid fitness\n",
    "    fitnesses = toolbox.map(toolbox.evaluate, population)\n",
    "    for pop in population:\n",
    "        #print(pop)\n",
    "        pass\n",
    "    \n",
    "    for ind, fit in zip(population, fitnesses):\n",
    "        ind.fitness.values = fit\n",
    "\n",
    "    if halloffame is not None:\n",
    "        halloffame.update(population)\n",
    "\n",
    "    # Begin the generational process\n",
    "    while inter_time - start_time < max_time_s:\n",
    "        # Select the next generation individuals\n",
    "        offspring = map(toolbox.validate,toolbox.select(population, len(population)))\n",
    "\n",
    "        # Vary the pool of individuals\n",
    "        offspring = algorithms.varAnd(offspring, toolbox, cxpb, mutpb)\n",
    "\n",
    "        # Evaluate the individuals with an invalid fitness\n",
    "        invalid_ind = [ind for ind in offspring if not ind.fitness.valid]\n",
    "        fitnesses = toolbox.map(toolbox.evaluate, invalid_ind)\n",
    "        for ind, fit in zip(invalid_ind, fitnesses):\n",
    "            ind.fitness.values = fit\n",
    "\n",
    "        # Update the hall of fame with the generated individuals\n",
    "        if halloffame is not None:\n",
    "            halloffame.update(offspring)\n",
    "\n",
    "        # Replace the current population by the offspring\n",
    "        population[:] = offspring\n",
    "        \n",
    "        inter_time = time.time()\n",
    "        \n",
    "    res = population\n",
    "\n",
    "    solution = compute_direction_to_path(elites[0], START_CELL)\n",
    "    if END_CELL in solution:\n",
    "        solution = solution[:solution.index(END_CELL)]\n",
    "\n",
    "    display_labyrinth(grid, START_CELL, END_CELL, solution)\n",
    "\n",
    "solve_labyrinth(grid, START_CELL, END_CELL, MAX_TIME_S)\n"
   ]
  },
  {
   "cell_type": "code",
   "execution_count": null,
   "metadata": {},
   "outputs": [],
   "source": []
  },
  {
   "cell_type": "code",
   "execution_count": null,
   "metadata": {},
   "outputs": [],
   "source": []
  },
  {
   "cell_type": "code",
   "execution_count": null,
   "metadata": {},
   "outputs": [],
   "source": [
    "grid, size = load_grid(\"grids/grid40.npy\")\n",
    "start_cell = np.array([0,0])\n",
    "end_cell = (size[0]-1,size[1]-1)\n",
    "\n",
    "solve_labyrinth(grid, start_cell, end_cell, MAX_TIME_S)"
   ]
  },
  {
   "cell_type": "code",
   "execution_count": null,
   "metadata": {},
   "outputs": [],
   "source": []
  },
  {
   "cell_type": "code",
   "execution_count": null,
   "metadata": {},
   "outputs": [],
   "source": []
  },
  {
   "cell_type": "code",
   "execution_count": null,
   "metadata": {},
   "outputs": [],
   "source": []
  },
  {
   "cell_type": "code",
   "execution_count": null,
   "metadata": {},
   "outputs": [],
   "source": []
  }
 ],
 "metadata": {
  "kernelspec": {
   "display_name": "Python 3",
   "language": "python",
   "name": "python3"
  },
  "language_info": {
   "codemirror_mode": {
    "name": "ipython",
    "version": 3
   },
   "file_extension": ".py",
   "mimetype": "text/x-python",
   "name": "python",
   "nbconvert_exporter": "python",
   "pygments_lexer": "ipython3",
   "version": "3.5.2"
  }
 },
 "nbformat": 4,
 "nbformat_minor": 2
}
