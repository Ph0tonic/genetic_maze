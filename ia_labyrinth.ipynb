{
 "cells": [
  {
   "cell_type": "code",
   "execution_count": 1,
   "metadata": {},
   "outputs": [],
   "source": [
    "import numpy as np\n",
    "import random\n",
    "import matplotlib.pyplot as plt\n",
    "import random\n",
    "import time"
   ]
  },
  {
   "cell_type": "markdown",
   "metadata": {},
   "source": [
    "# IA - Labyrinth"
   ]
  },
  {
   "cell_type": "code",
   "execution_count": 2,
   "metadata": {},
   "outputs": [],
   "source": [
    "def generate_labyrinth(width, height, wall_ratio=0.3):\n",
    "    \"\"\" Randomly generates the labyrinth matrix, the values are:\n",
    "    0 if the cell is free\n",
    "    1 if there is a wall\n",
    "    :param width int: width of the matrix\n",
    "    :param height int: height of the matrix\n",
    "    :wall_ratio float: chance for a cell to be a wall\n",
    "    :return: tuple composed of:\n",
    "    <matrix>: numpy 2d array\n",
    "    <start_cell>: tuple of i, j indices for the start cell\n",
    "    <end_cell>: tuple of i, j indices for the end cell\n",
    "    \"\"\"\n",
    "    grid = np.random.rand(width, height)\n",
    "    grid[grid >= 1 - wall_ratio] = 1\n",
    "    grid[grid < 1 - wall_ratio] = 0\n",
    "    free_cell_top = [i for i in range(0, width) if grid[0][i] != 1]\n",
    "    start_idx = random.choice(free_cell_top)\n",
    "    start_cell = (0, start_idx)\n",
    "    free_cell_bottom = [i for i in range(0, width) if grid[-1][i] != 1]\n",
    "    end_idx = random.choice(free_cell_bottom)\n",
    "    end_cell = (height - 1, end_idx)\n",
    "    return grid, start_cell, end_cell"
   ]
  },
  {
   "cell_type": "code",
   "execution_count": 3,
   "metadata": {},
   "outputs": [],
   "source": [
    "def display_labyrinth(grid, start_cell, end_cell, solution=None):\n",
    "    \"\"\" Display the labyrinth matrix and possibly the solution with matplotlib.\n",
    "    Free cell will be in light gray.\n",
    "    Wall cells will be in dark gray.\n",
    "    Start and end cells will be in dark blue.\n",
    "    Path cells (start, end excluded) will be in light blue.\n",
    "    :param grid np.array: labyrinth matrix\n",
    "    :param start_cell: tuple of i, j indices for the start cell\n",
    "    :param end_cell: tuple of i, j indices for the end cell\n",
    "    :param solution: list of successive tuple i, j indices who forms the path\n",
    "    \"\"\"\n",
    "    grid = np.array(grid, copy=True)\n",
    "    FREE_CELL = 19\n",
    "    WALL_CELL = 16\n",
    "    START = 0\n",
    "    END = 0\n",
    "    PATH = 2\n",
    "    grid[grid == 0] = FREE_CELL\n",
    "    grid[grid == 1] = WALL_CELL\n",
    "    grid[start_cell] = START\n",
    "    grid[end_cell] = END\n",
    "    if solution:\n",
    "        solution = solution[1:-1]\n",
    "        for cell in solution:\n",
    "            grid[cell] = PATH\n",
    "    else:\n",
    "        print(\"No solution has been found\")\n",
    "    plt.matshow(grid, cmap=\"tab20c\")"
   ]
  },
  {
   "cell_type": "code",
   "execution_count": 43,
   "metadata": {},
   "outputs": [],
   "source": [
    "MAZE_SIZE = 10\n",
    "grid, start_cell, end_cell = generate_labyrinth(MAZE_SIZE, MAZE_SIZE)"
   ]
  },
  {
   "cell_type": "code",
   "execution_count": 58,
   "metadata": {},
   "outputs": [],
   "source": [
    "def load_grid(grid_file):\n",
    "    grid = np.load(grid_file)\n",
    "    h = grid.shape[0]\n",
    "    w = grid.shape[1]\n",
    "    return (grid, (h, w))\n",
    "\n",
    "grid, size = load_grid(\"grids/grid10.npy\")\n",
    "start_cell = (0,0)\n",
    "end_cell = (size[0]-1,size[1]-1)"
   ]
  },
  {
   "cell_type": "code",
   "execution_count": 59,
   "metadata": {
    "slideshow": {
     "slide_type": "slide"
    }
   },
   "outputs": [
    {
     "name": "stdout",
     "output_type": "stream",
     "text": [
      "No solution has been found\n"
     ]
    },
    {
     "data": {
      "image/png": "[encoded data removed]",
      "text/plain": [
       "<Figure size 288x288 with 1 Axes>"
      ]
     },
     "metadata": {
      "needs_background": "light"
     },
     "output_type": "display_data"
    }
   ],
   "source": [
    "display_labyrinth(grid, start_cell, end_cell)"
   ]
  },
  {
   "cell_type": "code",
   "execution_count": 7,
   "metadata": {},
   "outputs": [],
   "source": [
    "from deap import base\n",
    "from deap import creator\n",
    "from deap import tools\n",
    "from deap import algorithms\n",
    "import operator\n",
    "from enum import Enum\n",
    "from collections import namedtuple\n",
    "import random\n",
    "import time"
   ]
  },
  {
   "cell_type": "markdown",
   "metadata": {},
   "source": [
    "# Data Structure"
   ]
  },
  {
   "cell_type": "code",
   "execution_count": 95,
   "metadata": {},
   "outputs": [],
   "source": [
    "# Each operand or operator is described by 4 bits\n",
    "CODE_LENGTH = 4\n",
    "\n",
    "# In this example, we fix the number of directions to 4\n",
    "NB_DIRECTIONS = 4\n",
    "\n",
    "CHROMOSOME_LENGTH_START = (size[0]+size[1])\n",
    "\n",
    "# We have three type of code: operands, operators and undefined symbols\n",
    "class CodeType(Enum):\n",
    "    DIRECTION = 1\n",
    "    NOTHING = 2\n",
    "\n",
    "# namedtuple(\"typename, field_names[...]\") returns a new tuple subclass named 'typename'. \n",
    "# The new subclass is used to create tuple-like objects that have fields accessible \n",
    "# by attribute lookup as well as being indexable and iterable\n",
    "Code = namedtuple(\"Code\", [\"code_type\", \"apply\", \"str\"])\n",
    "\n",
    "class Direction(Enum):\n",
    "    TOP = 0#, \"t\", np.array([-1, 0]))\n",
    "    RIGHT = 1#, \"r\", np.array([0, 1]))\n",
    "    BOTTOM = 2#, \"b\", np.array([1, 0]))\n",
    "    LEFT = 3#, \"l\", np.array([0, -1]))\n",
    "    \n",
    "    def apply(self, location):\n",
    "        return location + self.move\n",
    "    \n",
    "    def to_str(self):\n",
    "        self.string\n",
    "    \n",
    "    def get_move(self):\n",
    "        return self._tbl[self]\n",
    "\n",
    "Direction._tbl = {\n",
    "    Direction.TOP:   np.array([-1, 0]),\n",
    "    Direction.RIGHT: np.array([0, 1]),\n",
    "    Direction.BOTTOM:   np.array([1, 0]),\n",
    "    Direction.LEFT: np.array([0, -1])\n",
    "}"
   ]
  },
  {
   "cell_type": "markdown",
   "metadata": {},
   "source": [
    "## Generic tools"
   ]
  },
  {
   "cell_type": "code",
   "execution_count": 100,
   "metadata": {},
   "outputs": [],
   "source": [
    "def available_direction(location, previous_direction = None):\n",
    "    directions = set()\n",
    "    #for direction in Direction:\n",
    "    #    print(shake)\n",
    "    if(location[0] > 0 and grid[tuple(location+Direction.TOP.get_move())] != 1.0):\n",
    "        directions.add(Direction.TOP)\n",
    "    if(location[0] < size[0]-1 and grid[tuple(location+Direction.BOTTOM.get_move())] != 1.0):\n",
    "        directions.add(Direction.BOTTOM)\n",
    "    if(location[1] > 0 and grid[tuple(location+Direction.LEFT.get_move())] != 1.0):\n",
    "        directions.add(Direction.LEFT)\n",
    "    if(location[1] < size[1]-1 and grid[tuple(location+Direction.RIGHT.get_move())] != 1.0):\n",
    "        directions.add(Direction.RIGHT)\n",
    "    \n",
    "    if(len(directions)>1 and previous_direction):\n",
    "        directions.discard(previous_direction)\n",
    "    \n",
    "    return directions"
   ]
  },
  {
   "cell_type": "code",
   "execution_count": null,
   "metadata": {},
   "outputs": [],
   "source": []
  },
  {
   "cell_type": "code",
   "execution_count": null,
   "metadata": {},
   "outputs": [],
   "source": []
  },
  {
   "cell_type": "code",
   "execution_count": null,
   "metadata": {},
   "outputs": [],
   "source": []
  },
  {
   "cell_type": "markdown",
   "metadata": {},
   "source": [
    "## Deap Framework"
   ]
  },
  {
   "cell_type": "code",
   "execution_count": null,
   "metadata": {},
   "outputs": [],
   "source": [
    "toolbox = base.Toolbox()"
   ]
  },
  {
   "cell_type": "code",
   "execution_count": null,
   "metadata": {},
   "outputs": [],
   "source": []
  },
  {
   "cell_type": "code",
   "execution_count": null,
   "metadata": {},
   "outputs": [],
   "source": []
  },
  {
   "cell_type": "code",
   "execution_count": null,
   "metadata": {},
   "outputs": [],
   "source": []
  },
  {
   "cell_type": "markdown",
   "metadata": {},
   "source": [
    "### Fitnesse"
   ]
  },
  {
   "cell_type": "code",
   "execution_count": 70,
   "metadata": {},
   "outputs": [
    {
     "ename": "NameError",
     "evalue": "name 'toolbox' is not defined",
     "output_type": "error",
     "traceback": [
      "\u001b[0;31m---------------------------------------------------------------------------\u001b[0m",
      "\u001b[0;31mNameError\u001b[0m                                 Traceback (most recent call last)",
      "\u001b[0;32m<ipython-input-70-8006e2d31779>\u001b[0m in \u001b[0;36m<module>\u001b[0;34m\u001b[0m\n\u001b[1;32m      1\u001b[0m \u001b[0;32mdef\u001b[0m \u001b[0mfitness\u001b[0m\u001b[0;34m(\u001b[0m\u001b[0mindividual\u001b[0m\u001b[0;34m,\u001b[0m \u001b[0mtarget\u001b[0m\u001b[0;34m)\u001b[0m\u001b[0;34m:\u001b[0m\u001b[0;34m\u001b[0m\u001b[0m\n\u001b[1;32m      2\u001b[0m     \u001b[0;32mreturn\u001b[0m \u001b[0;34m(\u001b[0m\u001b[0mabs\u001b[0m\u001b[0;34m(\u001b[0m\u001b[0mcompute_chromosome\u001b[0m\u001b[0;34m(\u001b[0m\u001b[0mindividual\u001b[0m\u001b[0;34m)\u001b[0m \u001b[0;34m-\u001b[0m \u001b[0mtarget\u001b[0m\u001b[0;34m)\u001b[0m\u001b[0;34m,\u001b[0m\u001b[0;34m)\u001b[0m \u001b[0;31m# Tuple !\u001b[0m\u001b[0;34m\u001b[0m\u001b[0m\n\u001b[0;32m----> 3\u001b[0;31m \u001b[0mtoolbox\u001b[0m\u001b[0;34m.\u001b[0m\u001b[0mregister\u001b[0m\u001b[0;34m(\u001b[0m\u001b[0;34m\"fitness\"\u001b[0m\u001b[0;34m,\u001b[0m \u001b[0mfitness\u001b[0m\u001b[0;34m)\u001b[0m\u001b[0;34m\u001b[0m\u001b[0m\n\u001b[0m\u001b[1;32m      4\u001b[0m \u001b[0;34m\u001b[0m\u001b[0m\n\u001b[1;32m      5\u001b[0m \u001b[0mcreator\u001b[0m\u001b[0;34m.\u001b[0m\u001b[0mcreate\u001b[0m\u001b[0;34m(\u001b[0m\u001b[0;34m\"FitnessMin\"\u001b[0m\u001b[0;34m,\u001b[0m \u001b[0mbase\u001b[0m\u001b[0;34m.\u001b[0m\u001b[0mFitness\u001b[0m\u001b[0;34m,\u001b[0m \u001b[0mweights\u001b[0m\u001b[0;34m=\u001b[0m\u001b[0;34m(\u001b[0m\u001b[0;34m-\u001b[0m\u001b[0;36m1.0\u001b[0m\u001b[0;34m,\u001b[0m\u001b[0;34m)\u001b[0m\u001b[0;34m)\u001b[0m\u001b[0;34m\u001b[0m\u001b[0m\n",
      "\u001b[0;31mNameError\u001b[0m: name 'toolbox' is not defined"
     ]
    }
   ],
   "source": [
    "def fitness(individual, target):\n",
    "    return (abs(compute_chromosome(individual) - target),) # Tuple !\n",
    "toolbox.register(\"fitness\", fitness)\n",
    "\n",
    "creator.create(\"FitnessMin\", base.Fitness, weights=(-1.0,))"
   ]
  },
  {
   "cell_type": "markdown",
   "metadata": {},
   "source": [
    "A prendre en compte: \n",
    "    -Validité chemin\n",
    "    - Intégrité\n",
    "    - Qualité\n",
    "    - Des approche\n",
    "    - Temps"
   ]
  },
  {
   "cell_type": "code",
   "execution_count": null,
   "metadata": {},
   "outputs": [],
   "source": []
  },
  {
   "cell_type": "markdown",
   "metadata": {},
   "source": [
    "### Create Individuals"
   ]
  },
  {
   "cell_type": "code",
   "execution_count": 22,
   "metadata": {},
   "outputs": [
    {
     "ename": "AttributeError",
     "evalue": "module 'deap.creator' has no attribute 'FitnessMin'",
     "output_type": "error",
     "traceback": [
      "\u001b[0;31m---------------------------------------------------------------------------\u001b[0m",
      "\u001b[0;31mAttributeError\u001b[0m                            Traceback (most recent call last)",
      "\u001b[0;32m<ipython-input-22-24808025b095>\u001b[0m in \u001b[0;36m<module>\u001b[0;34m\u001b[0m\n\u001b[0;32m----> 1\u001b[0;31m \u001b[0mcreator\u001b[0m\u001b[0;34m.\u001b[0m\u001b[0mcreate\u001b[0m\u001b[0;34m(\u001b[0m\u001b[0;34m\"Individual\"\u001b[0m\u001b[0;34m,\u001b[0m \u001b[0mlist\u001b[0m\u001b[0;34m,\u001b[0m \u001b[0mfitness\u001b[0m\u001b[0;34m=\u001b[0m\u001b[0mcreator\u001b[0m\u001b[0;34m.\u001b[0m\u001b[0mFitnessMin\u001b[0m\u001b[0;34m)\u001b[0m\u001b[0;34m\u001b[0m\u001b[0m\n\u001b[0m",
      "\u001b[0;31mAttributeError\u001b[0m: module 'deap.creator' has no attribute 'FitnessMin'"
     ]
    }
   ],
   "source": [
    "creator.create(\"Individual\", list, fitness=creator.FitnessMin) "
   ]
  },
  {
   "cell_type": "code",
   "execution_count": 66,
   "metadata": {},
   "outputs": [
    {
     "name": "stdout",
     "output_type": "stream",
     "text": [
      "200\n",
      "No solution has been found\n"
     ]
    },
    {
     "data": {
      "image/png": "[encoded data removed]",
      "text/plain": [
       "<Figure size 288x288 with 1 Axes>"
      ]
     },
     "metadata": {
      "needs_background": "light"
     },
     "output_type": "display_data"
    }
   ],
   "source": [
    "print(CHROMOSOME_LENGTH_START)\n",
    "display_labyrinth(grid, start_cell, end_cell)"
   ]
  },
  {
   "cell_type": "code",
   "execution_count": 140,
   "metadata": {},
   "outputs": [
    {
     "name": "stdout",
     "output_type": "stream",
     "text": [
      "[<Direction.RIGHT: 1>, <Direction.RIGHT: 1>, <Direction.RIGHT: 1>, <Direction.RIGHT: 1>, <Direction.BOTTOM: 2>, <Direction.BOTTOM: 2>, <Direction.RIGHT: 1>, <Direction.TOP: 0>, <Direction.LEFT: 3>, <Direction.BOTTOM: 2>, <Direction.LEFT: 3>, <Direction.RIGHT: 1>, <Direction.RIGHT: 1>, <Direction.BOTTOM: 2>, <Direction.LEFT: 3>, <Direction.BOTTOM: 2>, <Direction.LEFT: 3>, <Direction.LEFT: 3>, <Direction.LEFT: 3>, <Direction.LEFT: 3>]\n"
     ]
    },
    {
     "data": {
      "image/png": "[encoded data removed]",
      "text/plain": [
       "<Figure size 288x288 with 1 Axes>"
      ]
     },
     "metadata": {
      "needs_background": "light"
     },
     "output_type": "display_data"
    }
   ],
   "source": [
    "start_location = np.array([0, 0])\n",
    "def init_individual():\n",
    "    individual = []\n",
    "    locations = []\n",
    "    \n",
    "    location = start_location\n",
    "    previous_direction = None\n",
    "    \n",
    "    for i in range(0,CHROMOSOME_LENGTH_START):\n",
    "        directions = available_direction(location, previous_direction)\n",
    "        #print(directions)\n",
    "        direction = random.sample(directions,1)[0]\n",
    "        #print(direction)\n",
    "        individual.append(direction)\n",
    "        locations.append(tuple(location))\n",
    "        \n",
    "        location = location + direction.get_move()\n",
    "        previous_direction = Direction((direction.value+2)%4)\n",
    "    return individual, locations\n",
    "ind, locations = init_individual()\n",
    "print(ind)\n",
    "display_labyrinth(grid, start_cell, end_cell, locations)"
   ]
  },
  {
   "cell_type": "code",
   "execution_count": null,
   "metadata": {},
   "outputs": [],
   "source": []
  },
  {
   "cell_type": "code",
   "execution_count": null,
   "metadata": {},
   "outputs": [],
   "source": [
    "toolbox.register(\"init_gene\", random.randint, 0, len(Direction))\n",
    "\n",
    "\n",
    "toolbox.register(\"init_individual\", tools.initRepeat, creator.Individual, toolbox.init_gene, CHROMOSOME_LENGTH_START)\n",
    "toolbox.register(\"init_population\", tools.initRepeat, list, toolbox.init_individual)"
   ]
  },
  {
   "cell_type": "code",
   "execution_count": null,
   "metadata": {},
   "outputs": [],
   "source": []
  },
  {
   "cell_type": "code",
   "execution_count": null,
   "metadata": {},
   "outputs": [],
   "source": []
  },
  {
   "cell_type": "code",
   "execution_count": null,
   "metadata": {},
   "outputs": [],
   "source": []
  },
  {
   "cell_type": "code",
   "execution_count": null,
   "metadata": {},
   "outputs": [],
   "source": []
  },
  {
   "cell_type": "markdown",
   "metadata": {},
   "source": [
    "### Crossover"
   ]
  },
  {
   "cell_type": "code",
   "execution_count": null,
   "metadata": {},
   "outputs": [],
   "source": [
    "update after cross over"
   ]
  },
  {
   "cell_type": "code",
   "execution_count": null,
   "metadata": {},
   "outputs": [],
   "source": [
    "- recursive"
   ]
  },
  {
   "cell_type": "code",
   "execution_count": null,
   "metadata": {},
   "outputs": [],
   "source": []
  },
  {
   "cell_type": "markdown",
   "metadata": {},
   "source": [
    "### Mutation"
   ]
  },
  {
   "cell_type": "code",
   "execution_count": null,
   "metadata": {},
   "outputs": [],
   "source": [
    "Ne pas revenir en arrière\n",
    "Probabilité de mutation identique partout ?\n",
    "- récursive"
   ]
  },
  {
   "cell_type": "code",
   "execution_count": null,
   "metadata": {},
   "outputs": [],
   "source": []
  },
  {
   "cell_type": "code",
   "execution_count": null,
   "metadata": {},
   "outputs": [],
   "source": []
  },
  {
   "cell_type": "markdown",
   "metadata": {},
   "source": [
    "## Main"
   ]
  },
  {
   "cell_type": "code",
   "execution_count": null,
   "metadata": {},
   "outputs": [],
   "source": []
  },
  {
   "cell_type": "code",
   "execution_count": null,
   "metadata": {},
   "outputs": [],
   "source": []
  },
  {
   "cell_type": "markdown",
   "metadata": {},
   "source": [
    "## Interface"
   ]
  },
  {
   "cell_type": "code",
   "execution_count": null,
   "metadata": {},
   "outputs": [],
   "source": [
    "def solve_labyrinth(grid, start_cell, end_cell, max_time_s):\n",
    "    \"\"\" Attempt to solve the labyrinth by returning the best path found\n",
    "    :param grid np.array: numpy 2d array\n",
    "    :start_cell tuple: tuple of i, j indices for the start cell\n",
    "    :end_cell tuple: tuple of i, j indices for the end cell\n",
    "    :max_time_s float: maximum time for running the algorithm\n",
    "    :return list: list of successive tuple i, j indices who forms the path\n",
    "    \"\"\"\n",
    "    start_time = inter_time = time.time()\n",
    "    population = toolbox.init_population(n=10)\n",
    "\n",
    "    # crossover probability\n",
    "    CXPB = 0.7\n",
    "\n",
    "    # mutation probability (of a chromosome)\n",
    "    # compare with the indpb=0.1 in the previous line toolbox.register(\"mutate\", tools.mutFlipBit, indpb=0.1)\n",
    "    MUTPB = 0.2\n",
    "\n",
    "    evaluate_population(population, TARGET)\n",
    "    solution = None\n",
    "\n",
    "    number_of_iterations = 0\n",
    "    while len(find_winners(population)) == 0 and inter_time - start_time < max_time_s:\n",
    "        children = toolbox.select(population, len(population))\n",
    "\n",
    "        # Full alternative ---\n",
    "        # Clone the selected individuals, \n",
    "        # TODO: test your code without the cloning, print the \n",
    "        children = list(map(toolbox.clone, children))\n",
    "\n",
    "        # Apply crossover and mutation on the offspring\n",
    "        for child1, child2 in zip(children[::2], children[1::2]):\n",
    "            if random.random() < CXPB:\n",
    "                toolbox.mate(child1, child2)            \n",
    "\n",
    "        for mutant in children:\n",
    "            if random.random() < MUTPB:\n",
    "                toolbox.mutate(mutant)\n",
    "\n",
    "        # ---\n",
    "\n",
    "        # Shorcut alternative ---\n",
    "        #children = algorithms.varAnd(offspring, toolbox, 0.7, 0.2)\n",
    "        # ---\n",
    "\n",
    "        evaluate_population(children, TARGET)\n",
    "        population = children\n",
    "\n",
    "        # Search for the solution\n",
    "        fitnesses = [ind.fitness.values[0] for ind in population]\n",
    "        min_fit = min(fitnesses)\n",
    "        best = population[fitnesses.index(min_fit)]\n",
    "        if not solution or best.fitness.values[0] < solution.fitness.values[0]:\n",
    "            solution = best\n",
    "\n",
    "        inter_time = time.time()\n",
    "\n",
    "        number_of_iterations += 1\n",
    "\n",
    "    duration = time.time() - start_time\n",
    "\n",
    "    # TODO 4 :) In which case the following line is execuded?\n",
    "    if not solution:\n",
    "        solution = find_winners(population)[0]\n",
    "    \n",
    "    display_labyrinth(grid, start_cell, end_cell, solution)"
   ]
  },
  {
   "cell_type": "code",
   "execution_count": null,
   "metadata": {},
   "outputs": [],
   "source": [
    "grid, size = load_grid(\"grids/grid10.npy\")\n",
    "start_cell = np.array([0,0])\n",
    "end_cell = (size[0]-1,size[1]-1)\n",
    "max_time_s = 5\n",
    "\n",
    "solve_labyrinth(grid, start_cell, end_cell, max_time_s)"
   ]
  },
  {
   "cell_type": "code",
   "execution_count": null,
   "metadata": {},
   "outputs": [],
   "source": []
  },
  {
   "cell_type": "code",
   "execution_count": null,
   "metadata": {},
   "outputs": [],
   "source": []
  },
  {
   "cell_type": "code",
   "execution_count": null,
   "metadata": {},
   "outputs": [],
   "source": []
  },
  {
   "cell_type": "code",
   "execution_count": null,
   "metadata": {},
   "outputs": [],
   "source": []
  }
 ],
 "metadata": {
  "kernelspec": {
   "display_name": "Python 3",
   "language": "python",
   "name": "python3"
  },
  "language_info": {
   "codemirror_mode": {
    "name": "ipython",
    "version": 3
   },
   "file_extension": ".py",
   "mimetype": "text/x-python",
   "name": "python",
   "nbconvert_exporter": "python",
   "pygments_lexer": "ipython3",
   "version": "3.5.2"
  }
 },
 "nbformat": 4,
 "nbformat_minor": 2
}
