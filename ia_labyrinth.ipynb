{
 "cells": [
  {
   "cell_type": "markdown",
   "metadata": {},
   "source": [
    "# IA - Labyrinthe\n",
    "## Auteur:\n",
    "- Bastien Wermeille"
   ]
  },
  {
   "cell_type": "code",
   "execution_count": 1,
   "metadata": {},
   "outputs": [],
   "source": [
    "import numpy as np\n",
    "import random\n",
    "import matplotlib.pyplot as plt\n",
    "import time\n",
    "import random\n",
    "from enum import Enum\n",
    "\n",
    "from datetime import datetime\n",
    "random.seed(datetime.now())"
   ]
  },
  {
   "attachments": {},
   "cell_type": "markdown",
   "metadata": {},
   "source": [
    "### Choix des hyper-paramètres\n",
    "\n",
    "La fonction des fitnesse a été créée afin de distinguer facilement un chemin ayant atteint la but final.\n",
    "En ce qui concerne le crossover, j'ai choisi la fonction shuffle car celle-ci va garder la direction final et ainsi ne pas faire régresser mon algorithme.\n",
    "\n",
    "Les probabilités de mutations ont peu d'influence sur le résultat final de mon algorithme et les valeurs définitives ont étées choisi via essais "
   ]
  },
  {
   "cell_type": "code",
   "execution_count": 2,
   "metadata": {},
   "outputs": [],
   "source": [
    "WALL_RATIO = 0.3\n",
    "MAX_TIME_S = 20\n",
    "LOG = True\n",
    "POPULATION_LENGTH = 150\n",
    "CXPB = 0.7\n",
    "MUTPB = 0.1\n",
    "INDPB = 0.5"
   ]
  },
  {
   "cell_type": "markdown",
   "metadata": {},
   "source": [
    "## General tools"
   ]
  },
  {
   "cell_type": "code",
   "execution_count": 3,
   "metadata": {},
   "outputs": [],
   "source": [
    "def generate_labyrinth(width, height, wall_ratio=WALL_RATIO):\n",
    "    '''\n",
    "    Generate a random labyrinth\n",
    "    \n",
    "    @param width\n",
    "    @param height\n",
    "    @param wall_ratio\n",
    "    @return (grid, start_cell, end_cell)\n",
    "    '''\n",
    "    grid = np.random.rand(width, height)\n",
    "    grid[grid >= 1 - wall_ratio] = 1\n",
    "    grid[grid < 1 - wall_ratio] = 0\n",
    "    free_cell_top = [i for i in range(0, width) if grid[0][i] != 1]\n",
    "    start_idx = random.choice(free_cell_top)\n",
    "    start_cell = (0, start_idx)\n",
    "    free_cell_bottom = [i for i in range(0, width) if grid[-1][i] != 1]\n",
    "    end_idx = random.choice(free_cell_bottom)\n",
    "    end_cell = (height - 1, end_idx)\n",
    "    return grid, start_cell, end_cell"
   ]
  },
  {
   "cell_type": "code",
   "execution_count": 4,
   "metadata": {},
   "outputs": [],
   "source": [
    "def display_labyrinth(grid, start_cell, end_cell, solution=None):\n",
    "    '''\n",
    "    Generate a random labyrinth\n",
    "    \n",
    "    @param grid of the maze\n",
    "    @param start_cell\n",
    "    @param end_cell\n",
    "    @param solution allow to display the solution\n",
    "    '''\n",
    "    grid = np.array(grid, copy=True)\n",
    "    FREE_CELL = 19\n",
    "    WALL_CELL = 16\n",
    "    START = 0\n",
    "    END = 0\n",
    "    PATH = 2\n",
    "    grid[grid == 0] = FREE_CELL\n",
    "    grid[grid == 1] = WALL_CELL\n",
    "    grid[start_cell] = START\n",
    "    grid[end_cell] = END\n",
    "    if solution:\n",
    "        solution = solution[1:]\n",
    "        for cell in solution:\n",
    "            grid[cell] = PATH\n",
    "    else:\n",
    "        print(\"No solution has been found\")\n",
    "    plt.matshow(grid, cmap=\"tab20c\")"
   ]
  },
  {
   "cell_type": "code",
   "execution_count": 5,
   "metadata": {},
   "outputs": [],
   "source": [
    "def load_grid(grid_file):\n",
    "    '''\n",
    "    Load a labyrinth from a file\n",
    "    \n",
    "    @param grid_file\n",
    "    @return (grid, (height, width))\n",
    "    '''\n",
    "    grid = np.load(grid_file)\n",
    "    h = grid.shape[0]\n",
    "    w = grid.shape[1]\n",
    "    return (grid, (h, w))"
   ]
  },
  {
   "cell_type": "code",
   "execution_count": 6,
   "metadata": {},
   "outputs": [],
   "source": [
    "# grid, START_LOCATION, END_LOCATION = generate_labyrinth(WIDTH, HEIGHT, WALL_RATIO)\n",
    "grid, size = load_grid(\"grids/grid40.npy\")\n",
    "WIDTH = size[0]\n",
    "HEIGHT = size[1]\n",
    "START_LOCATION = (0,0)\n",
    "END_LOCATION = (size[0]-1,size[1]-1)\n",
    "if WIDTH == 10:\n",
    "    CHROMOSOME_LENGTH = 25\n",
    "elif WIDTH == 15:\n",
    "    CHROMOSOME_LENGTH = 32\n",
    "elif WIDTH == 20:\n",
    "    CHROMOSOME_LENGTH = 45\n",
    "elif WIDTH == 40:\n",
    "    CHROMOSOME_LENGTH = 155\n",
    "else:\n",
    "    CHROMOSOME_LENGTH = int((WIDTH+HEIGHT)+(1-WALL_RATIO)*WIDTH+(1-WALL_RATIO)*HEIGHT)"
   ]
  },
  {
   "cell_type": "code",
   "execution_count": 7,
   "metadata": {
    "slideshow": {
     "slide_type": "slide"
    }
   },
   "outputs": [
    {
     "name": "stdout",
     "output_type": "stream",
     "text": [
      "No solution has been found\n",
      "Width :  40  Height :  40\n",
      "Chromosone Length :  155\n"
     ]
    },
    {
     "data": {
      "image/png": "[encoded data removed]",
      "text/plain": [
       "<Figure size 288x288 with 1 Axes>"
      ]
     },
     "metadata": {
      "needs_background": "light"
     },
     "output_type": "display_data"
    }
   ],
   "source": [
    "display_labyrinth(grid, START_LOCATION, END_LOCATION)\n",
    "print(\"Width : \", WIDTH, \" Height : \", HEIGHT)\n",
    "print(\"Chromosone Length : \", CHROMOSOME_LENGTH)"
   ]
  },
  {
   "cell_type": "markdown",
   "metadata": {},
   "source": [
    "# Data Structure"
   ]
  },
  {
   "cell_type": "code",
   "execution_count": 8,
   "metadata": {},
   "outputs": [],
   "source": [
    "DIRECTIONS = {\n",
    "    0: (-1, 0), # TOP\n",
    "    1: (0, 1),  # RIGHT\n",
    "    2: (1, 0),  # BOTTOM\n",
    "    3: (0, -1), # LEFT\n",
    "}\n",
    "DIRECTIONS_LENGTH = len(DIRECTIONS)"
   ]
  },
  {
   "cell_type": "markdown",
   "metadata": {},
   "source": [
    "## Genetic tools"
   ]
  },
  {
   "cell_type": "code",
   "execution_count": 9,
   "metadata": {},
   "outputs": [],
   "source": [
    "def check_duplication_point(location, direction, previous_locations):\n",
    "    '''\n",
    "    Check if a given location as already been visited and if this location is crossable\n",
    "    \n",
    "    @param location\n",
    "    @param direction given direction to check from this given location\n",
    "    @param previous_locations list of the previous locations\n",
    "    @return boolean disponibility of the location\n",
    "    '''\n",
    "    location_new = tuple(np.add(location, DIRECTIONS[direction]))\n",
    "    return grid[location_new] != 1.0 and location_new not in previous_locations"
   ]
  },
  {
   "cell_type": "code",
   "execution_count": 10,
   "metadata": {},
   "outputs": [],
   "source": [
    "def available_direction(location, previous_locations, start_location, targeted_location):\n",
    "    '''\n",
    "    Return a list of the available move at a given location regarding the previous visited locations\n",
    "    \n",
    "    @param location\n",
    "    @param direction given direction to check from this given location\n",
    "    @param previous_locations list of the previous locations\n",
    "    @return list of available moves\n",
    "    '''\n",
    "    directions = []\n",
    "    res = tuple(np.subtract(targeted_location, start_location))\n",
    "    \n",
    "    if location[0] > 0:\n",
    "        if check_duplication_point(location, 0, previous_locations):\n",
    "            directions.append(0)\n",
    "            if res[0]<0:\n",
    "                directions.append(0)\n",
    "                directions.append(0)\n",
    "    if location[0] < HEIGHT-1:\n",
    "        if check_duplication_point(location, 2, previous_locations):\n",
    "            directions.append(2)\n",
    "            if res[0]>0:\n",
    "                directions.append(2)\n",
    "                directions.append(2)\n",
    "    if location[1] > 0:\n",
    "        if check_duplication_point(location, 3, previous_locations):\n",
    "            directions.append(3)\n",
    "            if res[1]<0:\n",
    "                directions.append(3)\n",
    "                directions.append(3)\n",
    "    if location[1] < WIDTH-1:\n",
    "        if check_duplication_point(location, 1, previous_locations):\n",
    "            directions.append(1)\n",
    "            if res[1]>0:\n",
    "                directions.append(1)\n",
    "                directions.append(1)\n",
    "    \n",
    "    return directions"
   ]
  },
  {
   "cell_type": "code",
   "execution_count": 11,
   "metadata": {},
   "outputs": [],
   "source": [
    "def available_direction_simple(location):\n",
    "    '''\n",
    "    Return a list of the avilable move at a given location without regarding the previous visited locations\n",
    "    \n",
    "    @param location\n",
    "    @return list of available moves\n",
    "    '''\n",
    "    directions = []\n",
    "    \n",
    "    if location[0] > 0:\n",
    "        location_new = tuple(np.add(location, DIRECTIONS[0]))\n",
    "        if grid[location_new] != 1.0:\n",
    "            directions.append(0)\n",
    "    if location[0] < HEIGHT-1:\n",
    "        location_new = tuple(np.add(location, DIRECTIONS[2]))\n",
    "        if grid[location_new] != 1.0:\n",
    "            directions.append(2)\n",
    "    if location[1] > 0:\n",
    "        location_new = tuple(np.add(location, DIRECTIONS[3]))\n",
    "        if grid[location_new] != 1.0:\n",
    "            directions.append(3)\n",
    "    if location[1] < WIDTH-1:\n",
    "        location_new = tuple(np.add(location, DIRECTIONS[1]))\n",
    "        if grid[location_new] != 1.0:\n",
    "            directions.append(1)\n",
    "    \n",
    "    return directions"
   ]
  },
  {
   "cell_type": "code",
   "execution_count": 12,
   "metadata": {},
   "outputs": [],
   "source": [
    "def validate_individual(individual, start_location, targeted_location):\n",
    "    '''\n",
    "    Make an individual valid as et doesn't cross any wall\n",
    "    \n",
    "    @param individual\n",
    "    @param start_location\n",
    "    @param targeted_location\n",
    "    @return validated invdividual\n",
    "    '''\n",
    "    previous_locations = set([start_location])\n",
    "    location = start_location\n",
    "    direction = None\n",
    "    end = False\n",
    "    \n",
    "    for index, direction in enumerate(individual):\n",
    "        if end:\n",
    "            continue\n",
    "        \n",
    "        # Validate every direction in an individual\n",
    "        directions = available_direction(location, previous_locations, start_location, targeted_location)\n",
    "        if len(directions) == 0:\n",
    "            direction = random.choice(available_direction_simple(location))\n",
    "        elif direction not in directions:\n",
    "            # Find another valid direction\n",
    "            direction = random.choice(directions)\n",
    "        \n",
    "        # Compute new location\n",
    "        location = tuple(np.add(location, DIRECTIONS[direction]))\n",
    "        \n",
    "        individual[index] = direction\n",
    "        previous_locations.add(location)\n",
    "        \n",
    "        if location == targeted_location:\n",
    "            end = True\n",
    "    \n",
    "    return individual#, previous_locations"
   ]
  },
  {
   "cell_type": "code",
   "execution_count": 13,
   "metadata": {},
   "outputs": [],
   "source": [
    "def compute_direction_to_path(individual, start_location):\n",
    "    '''\n",
    "    Compute the list of directions and return the list of the locations visited in order\n",
    "    \n",
    "    @param individual\n",
    "    @param start_location\n",
    "    @return computed path\n",
    "    '''\n",
    "    locations = [start_location]\n",
    "    location = start_location\n",
    "    for direction in individual:\n",
    "        location = tuple(np.add(location, DIRECTIONS[direction]))\n",
    "        locations.append(location)\n",
    "    return locations"
   ]
  },
  {
   "cell_type": "code",
   "execution_count": 14,
   "metadata": {},
   "outputs": [],
   "source": [
    "def optimise_individual(individual, locations):\n",
    "    '''\n",
    "    Optimise an individual to remove useless moves using only the individual information and its computed path\n",
    "    \n",
    "    @param individual\n",
    "    @param locations computed path of the individual\n",
    "    @return optimised individual\n",
    "    '''\n",
    "    \n",
    "    i = 0\n",
    "    # remove detour passing by same location\n",
    "    while i < len(individual):\n",
    "        if locations[i] in locations[i+1:]:\n",
    "            index = locations[i+1:].index(locations[i])+i+1\n",
    "            individual[:] = individual[:i]+individual[index:]\n",
    "            locations[:] = locations[:i]+locations[index:]\n",
    "        i += 1\n",
    "    \n",
    "    i=0\n",
    "    while i < len(individual)-2:\n",
    "        if individual[i] == (individual[i+2]+2)%4 and individual[i+1]%2 != individual[i]%2:\n",
    "            individual[i] = individual[i+1]\n",
    "            individual[:] = individual[:i+1]+individual[i+3:]\n",
    "        i += 1\n",
    "    \n",
    "    return individual"
   ]
  },
  {
   "cell_type": "code",
   "execution_count": 15,
   "metadata": {},
   "outputs": [],
   "source": [
    "def evaluate(individual, start_location, targeted_location):\n",
    "    '''\n",
    "    Evaluate an individual and return it's score but first make it valid and optimise it\n",
    "    \n",
    "    @param individual\n",
    "    @param start_location\n",
    "    @param targeted_location\n",
    "    '''\n",
    "    individual = validate_individual(individual, start_location, targeted_location)\n",
    "    \n",
    "    locations = compute_direction_to_path(individual, start_location)\n",
    "    \n",
    "    if targeted_location in locations:\n",
    "        individual[:] = individual[:locations.index(targeted_location)]\n",
    "        locations[:] = locations[:locations.index(targeted_location)+1]\n",
    "        \n",
    "        individual[:] = optimise_individual(individual, locations)\n",
    "        \n",
    "        # Score equals to the length of the path\n",
    "        score = len(individual)\n",
    "    else:\n",
    "        # Score equals to length of the individual + the remaining distance\n",
    "        distance = tuple(np.subtract(locations[-1], targeted_location))\n",
    "        manhattan_distance = abs(distance[0])+abs(distance[1])\n",
    "        score = len(individual) + manhattan_distance\n",
    "        score *= score\n",
    "    return score,"
   ]
  },
  {
   "cell_type": "markdown",
   "metadata": {},
   "source": [
    "## Deap Framework"
   ]
  },
  {
   "cell_type": "code",
   "execution_count": 16,
   "metadata": {},
   "outputs": [],
   "source": [
    "from deap import base\n",
    "from deap import creator\n",
    "from deap import tools\n",
    "from deap import algorithms\n",
    "import operator\n",
    "from enum import Enum\n",
    "from collections import namedtuple\n",
    "import random\n",
    "import time"
   ]
  },
  {
   "cell_type": "code",
   "execution_count": 17,
   "metadata": {},
   "outputs": [],
   "source": [
    "toolbox = base.Toolbox()\n",
    "\n",
    "creator.create(\"FitnessMin\", base.Fitness, weights=(-1.0,))\n",
    "creator.create(\"Individual\", list, fitness=creator.FitnessMin)"
   ]
  },
  {
   "cell_type": "code",
   "execution_count": 18,
   "metadata": {},
   "outputs": [],
   "source": [
    "toolbox.register(\"direction\", random.randint, 0, DIRECTIONS_LENGTH-1)\n",
    "toolbox.register(\"individual\", tools.initRepeat, creator.Individual, toolbox.direction, CHROMOSOME_LENGTH)\n",
    "toolbox.register(\"population\", tools.initRepeat, list, toolbox.individual)\n",
    "\n",
    "toolbox.register(\"select\", tools.selRoulette)\n",
    "toolbox.register(\"mate\", tools.cxOnePoint)\n",
    "toolbox.register(\"mutate\", tools.mutShuffleIndexes, indpb=INDPB)\n",
    "toolbox.register(\"evaluate\", evaluate, start_location=START_LOCATION, targeted_location=END_LOCATION)"
   ]
  },
  {
   "cell_type": "markdown",
   "metadata": {},
   "source": [
    "## Application interface"
   ]
  },
  {
   "cell_type": "code",
   "execution_count": 19,
   "metadata": {},
   "outputs": [],
   "source": [
    "def solve_labyrinth_cycle(grid, start_location, end_location, nb_cycles):\n",
    "    '''\n",
    "    Run the solving algorithmes with a given number of cycles\n",
    "    \n",
    "    @param grid\n",
    "    @param start_location\n",
    "    @param targeted_location\n",
    "    @param nb_cycles\n",
    "    @return final population\n",
    "    '''\n",
    "    population = toolbox.population(POPULATION_LENGTH)\n",
    "    halloffame = tools.HallOfFame(1)\n",
    "    \n",
    "    print(\"\\t\\t Start Computing\")\n",
    "    print(\"----------------------------\")\n",
    "    print(\"Population length : \", CHROMOSOME_LENGTH)\n",
    "    print(\"Nb cacles : \", nb_cycles)\n",
    "    print(\"Population length : \", POPULATION_LENGTH)\n",
    "    print(\"CXPB : \", CXPB)\n",
    "    print(\"MUTPB : \", MUTPB)\n",
    "    print(\"----------------------------\")\n",
    "    \n",
    "    res = algorithms.eaSimple(population, toolbox,CXPB, MUTPB, nb_cycles, halloffame=halloffame, verbose=False)\n",
    "    \n",
    "    print(\"Best result:\")\n",
    "    print(\"\\t Length : \", len(halloffame[0]) )\n",
    "    \n",
    "    solution = compute_direction_to_path(halloffame[0], start_location)\n",
    "    display_labyrinth(grid, start_location, end_location, solution)\n",
    "    \n",
    "    return res"
   ]
  },
  {
   "cell_type": "code",
   "execution_count": 20,
   "metadata": {},
   "outputs": [],
   "source": [
    "def solve_labyrinth(grid, start_location, end_location, max_time_s):\n",
    "    '''\n",
    "    Run the solving algorithmes with a given number of time\n",
    "    \n",
    "    @param grid\n",
    "    @param start_location\n",
    "    @param targeted_location\n",
    "    @param nb_cycles\n",
    "    @return final population\n",
    "    '''\n",
    "    population = toolbox.population(POPULATION_LENGTH)\n",
    "    halloffame = tools.HallOfFame(1)\n",
    "    \n",
    "    print(\"\\t\\t Start Computing\")\n",
    "    print(\"----------------------------\")\n",
    "    print(\"Population length : \", CHROMOSOME_LENGTH)\n",
    "    print(\"Time available : %s secondes\" % max_time_s)\n",
    "    print(\"Population length : \", POPULATION_LENGTH)\n",
    "    print(\"CXPB : \", CXPB)\n",
    "    print(\"MUTPB : \", MUTPB)\n",
    "    print(\"----------------------------\")\n",
    "    \n",
    "    start_time = inter_time = time.time()\n",
    "    \n",
    "    # Evaluate the individuals with an invalid fitness\n",
    "    invalid_ind = [ind for ind in population if not ind.fitness.valid]\n",
    "    fitnesses = toolbox.map(toolbox.evaluate, invalid_ind)\n",
    "    for ind, fit in zip(invalid_ind, fitnesses):\n",
    "        ind.fitness.values = fit\n",
    "\n",
    "    if halloffame is not None:\n",
    "        halloffame.update(population)\n",
    "    \n",
    "    nb_gen = 0\n",
    "    \n",
    "    # Begin the generational process\n",
    "    while inter_time - start_time < max_time_s:\n",
    "        nb_gen += 1\n",
    "        \n",
    "        # Select the next generation individuals\n",
    "        offspring = toolbox.select(population, len(population))\n",
    "\n",
    "        # Vary the pool of individuals\n",
    "        offspring = algorithms.varAnd(offspring, toolbox, CXPB, MUTPB)\n",
    "\n",
    "        # Evaluate the individuals with an invalid fitness\n",
    "        invalid_ind = [ind for ind in offspring if not ind.fitness.valid]\n",
    "        fitnesses = toolbox.map(toolbox.evaluate, invalid_ind)\n",
    "        for ind, fit in zip(invalid_ind, fitnesses):\n",
    "            ind.fitness.values = fit\n",
    "\n",
    "        # Update the hall of fame with the generated individuals\n",
    "        if halloffame is not None:\n",
    "            halloffame.update(offspring)\n",
    "\n",
    "        # Replace the current population by the offspring\n",
    "        population[:] = offspring\n",
    "\n",
    "        # Measue time\n",
    "        inter_time = time.time()\n",
    "        \n",
    "        # Log\n",
    "        if LOG: # Debug interface influence par le travail de Damian Petroff\n",
    "            solution = compute_direction_to_path(halloffame[0], start_location)\n",
    "            complete = end_location in solution\n",
    "            print(\"[%s] | Time %.2f s | Length %s | Complete %s\" % (nb_gen, round(inter_time - start_time, 2), len(halloffame[0]), complete))\n",
    "        \n",
    "    res = population\n",
    "\n",
    "    \n",
    "    print(\"----------------------------\")\n",
    "    print(\"Nb Generations : \", nb_gen)\n",
    "    print(\"Best result:\")\n",
    "    print(\"\\t Length : \", len(halloffame[0]) )\n",
    "    \n",
    "    solution = compute_direction_to_path(halloffame[0], start_location)\n",
    "    display_labyrinth(grid, start_location, end_location, solution)\n",
    "    \n",
    "    return res"
   ]
  },
  {
   "cell_type": "code",
   "execution_count": 26,
   "metadata": {},
   "outputs": [
    {
     "name": "stdout",
     "output_type": "stream",
     "text": [
      "\t\t Start Computing\n",
      "----------------------------\n",
      "Population length :  155\n",
      "Nb cacles :  10\n",
      "Population length :  150\n",
      "CXPB :  0.7\n",
      "MUTPB :  0.1\n",
      "----------------------------\n",
      "Best result:\n",
      "\t Length :  94\n"
     ]
    },
    {
     "data": {
      "image/png": "[encoded data removed]",
      "text/plain": [
       "<Figure size 288x288 with 1 Axes>"
      ]
     },
     "metadata": {
      "needs_background": "light"
     },
     "output_type": "display_data"
    }
   ],
   "source": [
    "res = solve_labyrinth_cycle(grid, START_LOCATION, END_LOCATION, 10)"
   ]
  },
  {
   "cell_type": "code",
   "execution_count": 25,
   "metadata": {},
   "outputs": [
    {
     "name": "stdout",
     "output_type": "stream",
     "text": [
      "\t\t Start Computing\n",
      "----------------------------\n",
      "Population length :  155\n",
      "Time available : 20 secondes\n",
      "Population length :  150\n",
      "CXPB :  0.7\n",
      "MUTPB :  0.1\n",
      "----------------------------\n",
      "[1] | Time 1.63 s | Length 155 | Complete False\n",
      "[2] | Time 2.33 s | Length 108 | Complete True\n",
      "[3] | Time 2.97 s | Length 108 | Complete True\n",
      "[4] | Time 3.66 s | Length 104 | Complete True\n",
      "[5] | Time 4.29 s | Length 104 | Complete True\n",
      "[6] | Time 4.94 s | Length 104 | Complete True\n",
      "[7] | Time 5.62 s | Length 104 | Complete True\n",
      "[8] | Time 6.27 s | Length 104 | Complete True\n",
      "[9] | Time 6.86 s | Length 104 | Complete True\n",
      "[10] | Time 7.50 s | Length 104 | Complete True\n",
      "[11] | Time 8.27 s | Length 104 | Complete True\n",
      "[12] | Time 9.07 s | Length 104 | Complete True\n",
      "[13] | Time 9.74 s | Length 104 | Complete True\n",
      "[14] | Time 10.44 s | Length 104 | Complete True\n",
      "[15] | Time 11.00 s | Length 104 | Complete True\n",
      "[16] | Time 11.73 s | Length 104 | Complete True\n",
      "[17] | Time 12.44 s | Length 104 | Complete True\n",
      "[18] | Time 13.09 s | Length 104 | Complete True\n",
      "[19] | Time 13.81 s | Length 104 | Complete True\n",
      "[20] | Time 14.41 s | Length 104 | Complete True\n",
      "[21] | Time 15.05 s | Length 104 | Complete True\n",
      "[22] | Time 15.72 s | Length 104 | Complete True\n",
      "[23] | Time 16.38 s | Length 104 | Complete True\n",
      "[24] | Time 17.14 s | Length 104 | Complete True\n",
      "[25] | Time 17.89 s | Length 104 | Complete True\n",
      "[26] | Time 18.60 s | Length 104 | Complete True\n",
      "[27] | Time 19.23 s | Length 104 | Complete True\n",
      "[28] | Time 19.90 s | Length 104 | Complete True\n",
      "[29] | Time 20.60 s | Length 104 | Complete True\n",
      "----------------------------\n",
      "Nb Generations :  29\n",
      "Best result:\n",
      "\t Length :  104\n"
     ]
    },
    {
     "data": {
      "image/png": "[encoded data removed]",
      "text/plain": [
       "<Figure size 288x288 with 1 Axes>"
      ]
     },
     "metadata": {
      "needs_background": "light"
     },
     "output_type": "display_data"
    }
   ],
   "source": [
    "res = solve_labyrinth(grid, START_LOCATION, END_LOCATION, MAX_TIME_S)"
   ]
  },
  {
   "cell_type": "code",
   "execution_count": null,
   "metadata": {},
   "outputs": [],
   "source": []
  }
 ],
 "metadata": {
  "kernelspec": {
   "display_name": "Python 3",
   "language": "python",
   "name": "python3"
  },
  "language_info": {
   "codemirror_mode": {
    "name": "ipython",
    "version": 3
   },
   "file_extension": ".py",
   "mimetype": "text/x-python",
   "name": "python",
   "nbconvert_exporter": "python",
   "pygments_lexer": "ipython3",
   "version": "3.5.2"
  }
 },
 "nbformat": 4,
 "nbformat_minor": 2
}
